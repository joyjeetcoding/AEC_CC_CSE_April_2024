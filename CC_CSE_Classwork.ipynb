{
 "cells": [
  {
   "cell_type": "code",
   "execution_count": 1,
   "id": "5afc32b9-0e6d-4fbb-8128-8bbad49c4ae9",
   "metadata": {},
   "outputs": [
    {
     "name": "stdout",
     "output_type": "stream",
     "text": [
      "500000 1000000\n"
     ]
    }
   ],
   "source": [
    "n = 1000000\n",
    "i = 1\n",
    "count = 0\n",
    "while (i <= n):\n",
    "    count += 1\n",
    "    i += 2\n",
    "print (count, n)  # O(n)"
   ]
  },
  {
   "cell_type": "code",
   "execution_count": 2,
   "id": "7ac9c86b-a6a8-4449-a1a2-f0ad6eedfebe",
   "metadata": {},
   "outputs": [
    {
     "name": "stdout",
     "output_type": "stream",
     "text": [
      "20 19.931568569324174\n"
     ]
    }
   ],
   "source": [
    "import math\n",
    "n = 1000000\n",
    "i = 1\n",
    "count = 0\n",
    "while (i <= n):\n",
    "    count += 1\n",
    "    i *= 2\n",
    "print (count, math.log2(n))  # O(log2(n))"
   ]
  },
  {
   "cell_type": "code",
   "execution_count": 7,
   "id": "c9607897-dbdd-4312-8522-e4893a8e42fa",
   "metadata": {},
   "outputs": [
    {
     "name": "stdout",
     "output_type": "stream",
     "text": [
      "6 4.316983346365776\n"
     ]
    }
   ],
   "source": [
    "import math\n",
    "n = 1000000\n",
    "i = 2\n",
    "count = 1\n",
    "while (i <= n):\n",
    "    count += 1\n",
    "    i **= 2\n",
    "print (count, math.log2(math.log2(n)))  # O(loglog2(n))"
   ]
  },
  {
   "cell_type": "code",
   "execution_count": 10,
   "id": "11fd1b24-251c-487b-b47d-b90442c958b0",
   "metadata": {},
   "outputs": [
    {
     "name": "stdout",
     "output_type": "stream",
     "text": [
      "Hello Hello Hello Hello Hello \n",
      "Banana\n"
     ]
    }
   ],
   "source": [
    "print (\"Hello \" * 5)\n",
    "print (\"Ba\" + \"na\" * 2)"
   ]
  },
  {
   "cell_type": "code",
   "execution_count": null,
   "id": "580e838f-3b68-4276-b731-6ea1c7e35cb1",
   "metadata": {},
   "outputs": [],
   "source": [
    "Pattren - 1\n",
    "n = 6 (User input)\n",
    "                 i   .   *\n",
    "              ---------------\n",
    ".....*           1   5   1        (n, i)\n",
    "....***          2   4   3   . => (n - i)\n",
    "...*****         3   3   5\n",
    "..*******        4   2   7   * => (2 * i - 1)\n",
    ".*********       5   1   9\n",
    "***********      6   0  11\n",
    "              ---------------"
   ]
  },
  {
   "cell_type": "code",
   "execution_count": 13,
   "id": "1df6cbf6-c5bd-41a6-905e-211722a6515b",
   "metadata": {},
   "outputs": [
    {
     "name": "stdin",
     "output_type": "stream",
     "text": [
      "Enter the number of layers: 6\n"
     ]
    },
    {
     "name": "stdout",
     "output_type": "stream",
     "text": [
      ".....*\n",
      "....***\n",
      "...*****\n",
      "..*******\n",
      ".*********\n",
      "***********\n",
      "End of the pattern...\n"
     ]
    }
   ],
   "source": [
    "n = int(input(\"Enter the number of layers:\"))\n",
    "for i in range(1, n + 1):\n",
    "    print (\".\" * (n - i) + \"*\" * (2 * i - 1))\n",
    "print (\"End of the pattern...\")"
   ]
  },
  {
   "cell_type": "code",
   "execution_count": null,
   "id": "ecfbff2c-7f0e-4e01-9a0a-32dbdab58e0f",
   "metadata": {},
   "outputs": [],
   "source": [
    "Pattren - 2\n",
    "n = 11 (User input, should be an odd integer)   m  = (n + 1) // 2 = 6\n",
    "                 i   .   *\n",
    "              ---------------\n",
    "***********      1   0  11        (n, m, i)\n",
    ".*********       2   1   9   . => (i - 1)\n",
    "..*******        3   2   7\n",
    "...*****         4   3   5   * => (2 * (m - i) + 1)\n",
    "....***          5   4   3\n",
    ".....*        ___6___5___1___\n",
    "....***          7   4   3\n",
    "...*****         8   3   5   . => (n - i)\n",
    "..*******        9   2   7\n",
    ".*********      10   1   9   * => (2 * (i - m) + 1)\n",
    "***********     11   0  11\n",
    "              ---------------"
   ]
  },
  {
   "cell_type": "code",
   "execution_count": 17,
   "id": "e9576b37-f651-4b4f-8ac1-5b78301822ba",
   "metadata": {},
   "outputs": [
    {
     "name": "stdin",
     "output_type": "stream",
     "text": [
      "Enter the ODD number of layers: 12\n",
      "Enter the ODD number of layers: 10\n",
      "Enter the ODD number of layers: 8\n",
      "Enter the ODD number of layers: 22\n",
      "Enter the ODD number of layers: 24\n",
      "Enter the ODD number of layers: 11\n"
     ]
    },
    {
     "name": "stdout",
     "output_type": "stream",
     "text": [
      "***********\n",
      ".*********\n",
      "..*******\n",
      "...*****\n",
      "....***\n",
      ".....*\n",
      "....***\n",
      "...*****\n",
      "..*******\n",
      ".*********\n",
      "***********\n",
      "End of the pattern...\n"
     ]
    }
   ],
   "source": [
    "while (True):\n",
    "    n = int(input(\"Enter the ODD number of layers:\"))\n",
    "    if (n % 2 == 1): break\n",
    "m = (n + 1) // 2\n",
    "for i in range(1, n + 1):\n",
    "    if (i > m): b = (n - i); s = (2 * (i - m) + 1)\n",
    "    else: b = (i - 1); s = (2 * (m - i) + 1)\n",
    "    print (\".\" * b + \"*\" * s)\n",
    "print (\"End of the pattern...\")"
   ]
  },
  {
   "cell_type": "markdown",
   "id": "65ea3cea-f138-4fa1-9a85-2fe41915a682",
   "metadata": {},
   "source": [
    "### **Home Work**"
   ]
  },
  {
   "cell_type": "code",
   "execution_count": null,
   "id": "badbfa84-f52d-4c88-865b-b1ff8aaac758",
   "metadata": {
    "jupyter": {
     "source_hidden": true
    }
   },
   "outputs": [],
   "source": [
    "Pattern - 3\n",
    "n = 6 (User input)           dim = (2 * n - 1) = 11   dim x dim = 11 x 11   mid = n\n",
    "                             i   start  end\n",
    "                          -------------------   \n",
    "6 6 6 6 6 6 6 6 6 6 6        1     1     11\n",
    "6 5 5 5 5 5 5 5 5 5 6        2     2     10   start => i\n",
    "6 5 4 4 4 4 4 4 4 5 6        3     3      9\n",
    "6 5 4 3 3 3 3 3 4 5 6        4     4      8   end => dim - i + 1\n",
    "6 5 4 3 2 2 2 3 4 5 6        5     5      7\n",
    "6 5 4 3 2 1 2 3 4 5 6     ___6_____6______6___\n",
    "6 5 4 3 2 2 2 3 4 5 6        7     5      7\n",
    "6 5 4 3 3 3 3 3 4 5 6        8     4      8   start => dim - i + 1\n",
    "6 5 4 4 4 4 4 4 4 5 6        9     3      9\n",
    "6 5 5 5 5 5 5 5 5 5 6       10     2     10   end => i\n",
    "6 6 6 6 6 6 6 6 6 6 6       11     1     11\n",
    "                          -------------------"
   ]
  },
  {
   "cell_type": "code",
   "execution_count": 21,
   "id": "6c0ba42b-de12-4f39-8f56-35e06f081c84",
   "metadata": {
    "collapsed": true,
    "jupyter": {
     "outputs_hidden": true,
     "source_hidden": true
    }
   },
   "outputs": [
    {
     "name": "stdin",
     "output_type": "stream",
     "text": [
      "Please enter the number of layers: 7\n"
     ]
    },
    {
     "name": "stdout",
     "output_type": "stream",
     "text": [
      "7 7 7 7 7 7 7 7 7 7 7 7 7 \n",
      "7 6 6 6 6 6 6 6 6 6 6 6 7 \n",
      "7 6 5 5 5 5 5 5 5 5 5 6 7 \n",
      "7 6 5 4 4 4 4 4 4 4 5 6 7 \n",
      "7 6 5 4 3 3 3 3 3 4 5 6 7 \n",
      "7 6 5 4 3 2 2 2 3 4 5 6 7 \n",
      "7 6 5 4 3 2 1 2 3 4 5 6 7 \n",
      "7 6 5 4 3 2 2 2 3 4 5 6 7 \n",
      "7 6 5 4 3 3 3 3 3 4 5 6 7 \n",
      "7 6 5 4 4 4 4 4 4 4 5 6 7 \n",
      "7 6 5 5 5 5 5 5 5 5 5 6 7 \n",
      "7 6 6 6 6 6 6 6 6 6 6 6 7 \n",
      "7 7 7 7 7 7 7 7 7 7 7 7 7 \n",
      "End of the pattern...\n"
     ]
    }
   ],
   "source": [
    "n = int(input(\"Please enter the number of layers:\"))\n",
    "dim = (2 * n - 1); mid = n\n",
    "for i in range(1, dim + 1):\n",
    "    if (i > mid): start, end = (dim - i + 1), i\n",
    "    else: start, end = i, (dim - i + 1)\n",
    "    number = n\n",
    "    for j in range(1, dim + 1):\n",
    "        print (number, end = \" \")\n",
    "        if (j < start): number -= 1\n",
    "        if (j >= end): number += 1\n",
    "    print ()\n",
    "print (\"End of the pattern...\")"
   ]
  },
  {
   "cell_type": "code",
   "execution_count": null,
   "id": "b255f132-33ed-42ed-a27d-866c5167f394",
   "metadata": {},
   "outputs": [],
   "source": [
    "Pattern - 3\n",
    "n = 6 (User input)       dim = 2 * n - 1 = 11  (dim x dim)   mid = (dim + 1) // 2 = 6\n",
    "                           i   start   finish\n",
    "                         -----------------------\n",
    "6 6 6 6 6 6 6 6 6 6 6      1     1       11      \n",
    "6 5 5 5 5 5 5 5 5 5 6      2     2       10   start => i\n",
    "6 5 4 4 4 4 4 4 4 5 6      3     3        9\n",
    "6 5 4 3 3 3 3 3 4 5 6      4     4        8   finish => (dim - i + 1)\n",
    "6 5 4 3 2 2 2 3 4 5 6      5     5        7\n",
    "6 5 4 3 2 1 2 3 4 5 6    __6_____6________6__\n",
    "6 5 4 3 2 2 2 3 4 5 6      7     5        7\n",
    "6 5 4 3 3 3 3 3 4 5 6      8     4        8   start => (dim - i + 1)\n",
    "6 5 4 4 4 4 4 4 4 5 6      9     3        9\n",
    "6 5 5 5 5 5 5 5 5 5 6     10     2       10   finish => i\n",
    "6 6 6 6 6 6 6 6 6 6 6     11     1       11\n",
    "                         -----------------------"
   ]
  },
  {
   "cell_type": "code",
   "execution_count": 6,
   "id": "6210493a-7fbe-4cfc-a1d0-80f0237e4f5d",
   "metadata": {},
   "outputs": [
    {
     "name": "stdin",
     "output_type": "stream",
     "text": [
      "Please enter one integer number: 7\n"
     ]
    },
    {
     "name": "stdout",
     "output_type": "stream",
     "text": [
      "   7   7   7   7   7   7   7   7   7   7   7   7   7\n",
      "   7   6   6   6   6   6   6   6   6   6   6   6   7\n",
      "   7   6   5   5   5   5   5   5   5   5   5   6   7\n",
      "   7   6   5   4   4   4   4   4   4   4   5   6   7\n",
      "   7   6   5   4   3   3   3   3   3   4   5   6   7\n",
      "   7   6   5   4   3   2   2   2   3   4   5   6   7\n",
      "   7   6   5   4   3   2   1   2   3   4   5   6   7\n",
      "   7   6   5   4   3   2   2   2   3   4   5   6   7\n",
      "   7   6   5   4   3   3   3   3   3   4   5   6   7\n",
      "   7   6   5   4   4   4   4   4   4   4   5   6   7\n",
      "   7   6   5   5   5   5   5   5   5   5   5   6   7\n",
      "   7   6   6   6   6   6   6   6   6   6   6   6   7\n",
      "   7   7   7   7   7   7   7   7   7   7   7   7   7\n",
      "End of the pattern...\n"
     ]
    }
   ],
   "source": [
    "n = int(input(\"Please enter one integer number:\"))\n",
    "dim = (2 * n - 1); mid = (dim + 1) // 2\n",
    "for row in range(1, dim + 1):\n",
    "    start_num = n\n",
    "    if (row > mid): start, finish = (dim - row + 1), row\n",
    "    else: start, finish = row, (dim - row + 1)\n",
    "    for col in range(1, dim + 1):\n",
    "        print (\"%4d\"%start_num, end = \"\")\n",
    "        if (col < start): start_num -= 1\n",
    "        if (col >= finish): start_num += 1\n",
    "    print()\n",
    "print (\"End of the pattern...\")"
   ]
  },
  {
   "cell_type": "code",
   "execution_count": null,
   "id": "d6b6012c-8ec8-4257-a21e-ffab388d1fe6",
   "metadata": {},
   "outputs": [],
   "source": []
  }
 ],
 "metadata": {
  "kernelspec": {
   "display_name": "Python 3 (ipykernel)",
   "language": "python",
   "name": "python3"
  },
  "language_info": {
   "codemirror_mode": {
    "name": "ipython",
    "version": 3
   },
   "file_extension": ".py",
   "mimetype": "text/x-python",
   "name": "python",
   "nbconvert_exporter": "python",
   "pygments_lexer": "ipython3",
   "version": "3.11.7"
  }
 },
 "nbformat": 4,
 "nbformat_minor": 5
}

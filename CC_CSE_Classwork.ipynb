{
 "cells": [
  {
   "cell_type": "code",
   "execution_count": 1,
   "id": "5afc32b9-0e6d-4fbb-8128-8bbad49c4ae9",
   "metadata": {},
   "outputs": [
    {
     "name": "stdout",
     "output_type": "stream",
     "text": [
      "500000 1000000\n"
     ]
    }
   ],
   "source": [
    "n = 1000000\n",
    "i = 1\n",
    "count = 0\n",
    "while (i <= n):\n",
    "    count += 1\n",
    "    i += 2\n",
    "print (count, n)  # O(n)"
   ]
  },
  {
   "cell_type": "code",
   "execution_count": 2,
   "id": "7ac9c86b-a6a8-4449-a1a2-f0ad6eedfebe",
   "metadata": {},
   "outputs": [
    {
     "name": "stdout",
     "output_type": "stream",
     "text": [
      "20 19.931568569324174\n"
     ]
    }
   ],
   "source": [
    "import math\n",
    "n = 1000000\n",
    "i = 1\n",
    "count = 0\n",
    "while (i <= n):\n",
    "    count += 1\n",
    "    i *= 2\n",
    "print (count, math.log2(n))  # O(log2(n))"
   ]
  },
  {
   "cell_type": "code",
   "execution_count": 7,
   "id": "c9607897-dbdd-4312-8522-e4893a8e42fa",
   "metadata": {},
   "outputs": [
    {
     "name": "stdout",
     "output_type": "stream",
     "text": [
      "6 4.316983346365776\n"
     ]
    }
   ],
   "source": [
    "import math\n",
    "n = 1000000\n",
    "i = 2\n",
    "count = 1\n",
    "while (i <= n):\n",
    "    count += 1\n",
    "    i **= 2\n",
    "print (count, math.log2(math.log2(n)))  # O(loglog2(n))"
   ]
  },
  {
   "cell_type": "code",
   "execution_count": 10,
   "id": "11fd1b24-251c-487b-b47d-b90442c958b0",
   "metadata": {},
   "outputs": [
    {
     "name": "stdout",
     "output_type": "stream",
     "text": [
      "Hello Hello Hello Hello Hello \n",
      "Banana\n"
     ]
    }
   ],
   "source": [
    "print (\"Hello \" * 5)\n",
    "print (\"Ba\" + \"na\" * 2)"
   ]
  },
  {
   "cell_type": "code",
   "execution_count": null,
   "id": "580e838f-3b68-4276-b731-6ea1c7e35cb1",
   "metadata": {},
   "outputs": [],
   "source": [
    "Pattren - 1\n",
    "n = 6 (User input)\n",
    "                 i   .   *\n",
    "              ---------------\n",
    ".....*           1   5   1        (n, i)\n",
    "....***          2   4   3   . => (n - i)\n",
    "...*****         3   3   5\n",
    "..*******        4   2   7   * => (2 * i - 1)\n",
    ".*********       5   1   9\n",
    "***********      6   0  11\n",
    "              ---------------"
   ]
  },
  {
   "cell_type": "code",
   "execution_count": 13,
   "id": "1df6cbf6-c5bd-41a6-905e-211722a6515b",
   "metadata": {},
   "outputs": [
    {
     "name": "stdin",
     "output_type": "stream",
     "text": [
      "Enter the number of layers: 6\n"
     ]
    },
    {
     "name": "stdout",
     "output_type": "stream",
     "text": [
      ".....*\n",
      "....***\n",
      "...*****\n",
      "..*******\n",
      ".*********\n",
      "***********\n",
      "End of the pattern...\n"
     ]
    }
   ],
   "source": [
    "n = int(input(\"Enter the number of layers:\"))\n",
    "for i in range(1, n + 1):\n",
    "    print (\".\" * (n - i) + \"*\" * (2 * i - 1))\n",
    "print (\"End of the pattern...\")"
   ]
  },
  {
   "cell_type": "code",
   "execution_count": null,
   "id": "ecfbff2c-7f0e-4e01-9a0a-32dbdab58e0f",
   "metadata": {},
   "outputs": [],
   "source": [
    "Pattren - 2\n",
    "n = 11 (User input, should be an odd integer)   m  = (n + 1) // 2 = 6\n",
    "                 i   .   *\n",
    "              ---------------\n",
    "***********      1   0  11        (n, m, i)\n",
    ".*********       2   1   9   . => (i - 1)\n",
    "..*******        3   2   7\n",
    "...*****         4   3   5   * => (2 * (m - i) + 1)\n",
    "....***          5   4   3\n",
    ".....*        ___6___5___1___\n",
    "....***          7   4   3\n",
    "...*****         8   3   5   . => (n - i)\n",
    "..*******        9   2   7\n",
    ".*********      10   1   9   * => (2 * (i - m) + 1)\n",
    "***********     11   0  11\n",
    "              ---------------"
   ]
  },
  {
   "cell_type": "code",
   "execution_count": 17,
   "id": "e9576b37-f651-4b4f-8ac1-5b78301822ba",
   "metadata": {},
   "outputs": [
    {
     "name": "stdin",
     "output_type": "stream",
     "text": [
      "Enter the ODD number of layers: 12\n",
      "Enter the ODD number of layers: 10\n",
      "Enter the ODD number of layers: 8\n",
      "Enter the ODD number of layers: 22\n",
      "Enter the ODD number of layers: 24\n",
      "Enter the ODD number of layers: 11\n"
     ]
    },
    {
     "name": "stdout",
     "output_type": "stream",
     "text": [
      "***********\n",
      ".*********\n",
      "..*******\n",
      "...*****\n",
      "....***\n",
      ".....*\n",
      "....***\n",
      "...*****\n",
      "..*******\n",
      ".*********\n",
      "***********\n",
      "End of the pattern...\n"
     ]
    }
   ],
   "source": [
    "while (True):\n",
    "    n = int(input(\"Enter the ODD number of layers:\"))\n",
    "    if (n % 2 == 1): break\n",
    "m = (n + 1) // 2\n",
    "for i in range(1, n + 1):\n",
    "    if (i > m): b = (n - i); s = (2 * (i - m) + 1)\n",
    "    else: b = (i - 1); s = (2 * (m - i) + 1)\n",
    "    print (\".\" * b + \"*\" * s)\n",
    "print (\"End of the pattern...\")"
   ]
  },
  {
   "cell_type": "markdown",
   "id": "65ea3cea-f138-4fa1-9a85-2fe41915a682",
   "metadata": {},
   "source": [
    "### **Home Work**"
   ]
  },
  {
   "cell_type": "code",
   "execution_count": null,
   "id": "badbfa84-f52d-4c88-865b-b1ff8aaac758",
   "metadata": {
    "jupyter": {
     "source_hidden": true
    }
   },
   "outputs": [],
   "source": [
    "Pattern - 3\n",
    "n = 6 (User input)           dim = (2 * n - 1) = 11   dim x dim = 11 x 11   mid = n\n",
    "                             i   start  end\n",
    "                          -------------------   \n",
    "6 6 6 6 6 6 6 6 6 6 6        1     1     11\n",
    "6 5 5 5 5 5 5 5 5 5 6        2     2     10   start => i\n",
    "6 5 4 4 4 4 4 4 4 5 6        3     3      9\n",
    "6 5 4 3 3 3 3 3 4 5 6        4     4      8   end => dim - i + 1\n",
    "6 5 4 3 2 2 2 3 4 5 6        5     5      7\n",
    "6 5 4 3 2 1 2 3 4 5 6     ___6_____6______6___\n",
    "6 5 4 3 2 2 2 3 4 5 6        7     5      7\n",
    "6 5 4 3 3 3 3 3 4 5 6        8     4      8   start => dim - i + 1\n",
    "6 5 4 4 4 4 4 4 4 5 6        9     3      9\n",
    "6 5 5 5 5 5 5 5 5 5 6       10     2     10   end => i\n",
    "6 6 6 6 6 6 6 6 6 6 6       11     1     11\n",
    "                          -------------------"
   ]
  },
  {
   "cell_type": "code",
   "execution_count": 21,
   "id": "6c0ba42b-de12-4f39-8f56-35e06f081c84",
   "metadata": {
    "collapsed": true,
    "jupyter": {
     "outputs_hidden": true,
     "source_hidden": true
    }
   },
   "outputs": [
    {
     "name": "stdin",
     "output_type": "stream",
     "text": [
      "Please enter the number of layers: 7\n"
     ]
    },
    {
     "name": "stdout",
     "output_type": "stream",
     "text": [
      "7 7 7 7 7 7 7 7 7 7 7 7 7 \n",
      "7 6 6 6 6 6 6 6 6 6 6 6 7 \n",
      "7 6 5 5 5 5 5 5 5 5 5 6 7 \n",
      "7 6 5 4 4 4 4 4 4 4 5 6 7 \n",
      "7 6 5 4 3 3 3 3 3 4 5 6 7 \n",
      "7 6 5 4 3 2 2 2 3 4 5 6 7 \n",
      "7 6 5 4 3 2 1 2 3 4 5 6 7 \n",
      "7 6 5 4 3 2 2 2 3 4 5 6 7 \n",
      "7 6 5 4 3 3 3 3 3 4 5 6 7 \n",
      "7 6 5 4 4 4 4 4 4 4 5 6 7 \n",
      "7 6 5 5 5 5 5 5 5 5 5 6 7 \n",
      "7 6 6 6 6 6 6 6 6 6 6 6 7 \n",
      "7 7 7 7 7 7 7 7 7 7 7 7 7 \n",
      "End of the pattern...\n"
     ]
    }
   ],
   "source": [
    "n = int(input(\"Please enter the number of layers:\"))\n",
    "dim = (2 * n - 1); mid = n\n",
    "for i in range(1, dim + 1):\n",
    "    if (i > mid): start, end = (dim - i + 1), i\n",
    "    else: start, end = i, (dim - i + 1)\n",
    "    number = n\n",
    "    for j in range(1, dim + 1):\n",
    "        print (number, end = \" \")\n",
    "        if (j < start): number -= 1\n",
    "        if (j >= end): number += 1\n",
    "    print ()\n",
    "print (\"End of the pattern...\")"
   ]
  },
  {
   "cell_type": "code",
   "execution_count": null,
   "id": "b255f132-33ed-42ed-a27d-866c5167f394",
   "metadata": {},
   "outputs": [],
   "source": [
    "Pattern - 3\n",
    "n = 6 (User input)       dim = 2 * n - 1 = 11  (dim x dim)   mid = (dim + 1) // 2 = 6\n",
    "                           i   start   finish\n",
    "                         -----------------------\n",
    "6 6 6 6 6 6 6 6 6 6 6      1     1       11      \n",
    "6 5 5 5 5 5 5 5 5 5 6      2     2       10   start => i\n",
    "6 5 4 4 4 4 4 4 4 5 6      3     3        9\n",
    "6 5 4 3 3 3 3 3 4 5 6      4     4        8   finish => (dim - i + 1)\n",
    "6 5 4 3 2 2 2 3 4 5 6      5     5        7\n",
    "6 5 4 3 2 1 2 3 4 5 6    __6_____6________6__\n",
    "6 5 4 3 2 2 2 3 4 5 6      7     5        7\n",
    "6 5 4 3 3 3 3 3 4 5 6      8     4        8   start => (dim - i + 1)\n",
    "6 5 4 4 4 4 4 4 4 5 6      9     3        9\n",
    "6 5 5 5 5 5 5 5 5 5 6     10     2       10   finish => i\n",
    "6 6 6 6 6 6 6 6 6 6 6     11     1       11\n",
    "                         -----------------------"
   ]
  },
  {
   "cell_type": "code",
   "execution_count": 6,
   "id": "6210493a-7fbe-4cfc-a1d0-80f0237e4f5d",
   "metadata": {},
   "outputs": [
    {
     "name": "stdin",
     "output_type": "stream",
     "text": [
      "Please enter one integer number: 7\n"
     ]
    },
    {
     "name": "stdout",
     "output_type": "stream",
     "text": [
      "   7   7   7   7   7   7   7   7   7   7   7   7   7\n",
      "   7   6   6   6   6   6   6   6   6   6   6   6   7\n",
      "   7   6   5   5   5   5   5   5   5   5   5   6   7\n",
      "   7   6   5   4   4   4   4   4   4   4   5   6   7\n",
      "   7   6   5   4   3   3   3   3   3   4   5   6   7\n",
      "   7   6   5   4   3   2   2   2   3   4   5   6   7\n",
      "   7   6   5   4   3   2   1   2   3   4   5   6   7\n",
      "   7   6   5   4   3   2   2   2   3   4   5   6   7\n",
      "   7   6   5   4   3   3   3   3   3   4   5   6   7\n",
      "   7   6   5   4   4   4   4   4   4   4   5   6   7\n",
      "   7   6   5   5   5   5   5   5   5   5   5   6   7\n",
      "   7   6   6   6   6   6   6   6   6   6   6   6   7\n",
      "   7   7   7   7   7   7   7   7   7   7   7   7   7\n",
      "End of the pattern...\n"
     ]
    }
   ],
   "source": [
    "n = int(input(\"Please enter one integer number:\"))\n",
    "dim = (2 * n - 1); mid = (dim + 1) // 2\n",
    "for row in range(1, dim + 1):\n",
    "    start_num = n\n",
    "    if (row > mid): start, finish = (dim - row + 1), row\n",
    "    else: start, finish = row, (dim - row + 1)\n",
    "    for col in range(1, dim + 1):\n",
    "        print (\"%4d\"%start_num, end = \"\")\n",
    "        if (col < start): start_num -= 1\n",
    "        if (col >= finish): start_num += 1\n",
    "    print()\n",
    "print (\"End of the pattern...\")"
   ]
  },
  {
   "cell_type": "code",
   "execution_count": null,
   "id": "d6b6012c-8ec8-4257-a21e-ffab388d1fe6",
   "metadata": {},
   "outputs": [],
   "source": [
    "// Name- Riya Kumari, Language- C++, Pattern\n",
    "#include <iostream>\n",
    "#include<bits/stdc++.h>\n",
    "using namespace std;\n",
    "int main() {\n",
    "    // Write C++ code here\n",
    "   int n=6, dim=2*n-1, mid=(dim+1)/2, start=0,finish=0;\n",
    "   for(int i=1;i<dim+1;i++){\n",
    "       int start_num=n;\n",
    "       if(i>mid){\n",
    "           start=dim-i+1;\n",
    "           finish=i;\n",
    "       }\n",
    "       else{\n",
    "           start=i;\n",
    "           finish=dim-i+1;\n",
    "       }\n",
    "       for(int j=1;j<dim+1;j++){\n",
    "           std::cout<<start_num<<\" \";\n",
    "           if(j<start){\n",
    "               start_num-=1;\n",
    "           }\n",
    "           if(j>=finish){\n",
    "               start_num+=1;\n",
    "           }\n",
    "       }\n",
    "       cout<<endl;\n",
    "   }\n",
    "\n",
    "    return 0;\n",
    "}"
   ]
  },
  {
   "cell_type": "code",
   "execution_count": null,
   "id": "47efe53c-6670-4753-ac6c-e86b2a26f656",
   "metadata": {},
   "outputs": [],
   "source": [
    "// JAVA CODE\n",
    "public class Main {\n",
    "    public static void main(String[] args) {\n",
    "        int size = 12;\n",
    "        for (int i = 1; i <= size; i++) {\n",
    "            for (int j = 1; j <= size; j++) {\n",
    "                System.out.print(Math.max(Math.abs(size / 2 - i), Math.abs(size / 2 - j)) + \" \");\n",
    "            }\n",
    "            System.out.println();\n",
    "        }\n",
    "    }\n",
    "}"
   ]
  },
  {
   "cell_type": "markdown",
   "id": "1ba24926-993f-4108-9bad-f00ba65ff484",
   "metadata": {},
   "source": [
    "## **Triode Number**"
   ]
  },
  {
   "cell_type": "code",
   "execution_count": null,
   "id": "f70cff32-c3ae-4125-9060-fb5f3058271b",
   "metadata": {},
   "outputs": [],
   "source": [
    "Find out all possible three digit Triode Numbers.\n",
    "Let x be a Triode Number, then x, 2*x and 3*x will have all distinct digits.\n",
    "As example:\n",
    "x = 219, then 2*x = 438 and 3*x = 657\n",
    "x = 192, then 2*x = 384 and 3*x = 576\n",
    "Tracing:\n",
    "  x => 3\n",
    "2*x => 3    4\n",
    "3*x => 3,4  4\n",
    "lower limit =>  102\n",
    "upper limit =>  498"
   ]
  },
  {
   "cell_type": "code",
   "execution_count": 8,
   "id": "98ace489-d9f0-46b5-83c5-8f6dff81ccd7",
   "metadata": {},
   "outputs": [
    {
     "name": "stdout",
     "output_type": "stream",
     "text": [
      "192 384 576\n",
      "219 438 657\n",
      "267 534 801\n",
      "273 546 819\n",
      "327 654 981\n",
      "End of the program...\n"
     ]
    }
   ],
   "source": [
    "for x in range(102, 499):\n",
    "    trace = [0 for i in range(10)]\n",
    "    for times in range(1, 4):\n",
    "        number = times * x\n",
    "        while (number != 0):\n",
    "            last_digit = number % 10\n",
    "            if (trace[last_digit] != 0): break\n",
    "            trace[last_digit] = 1\n",
    "            number = number // 10\n",
    "        if (number != 0): break\n",
    "    if (number == 0): print (x, 2*x, 3*x)\n",
    "print (\"End of the program...\")"
   ]
  },
  {
   "cell_type": "code",
   "execution_count": 7,
   "id": "3dffffaf-4c8e-40da-b528-9623abb5723b",
   "metadata": {},
   "outputs": [
    {
     "name": "stdout",
     "output_type": "stream",
     "text": [
      "[0, 0, 0, 0, 0, 0, 0, 0, 0, 0]\n"
     ]
    }
   ],
   "source": [
    "trace = [0 for i in range(10)]\n",
    "print (trace)"
   ]
  },
  {
   "cell_type": "code",
   "execution_count": null,
   "id": "e5d8b9fa-8421-46af-b584-49ac245a045e",
   "metadata": {},
   "outputs": [],
   "source": [
    "// Name- Saini Mudi.  Language - C++ TRIODE NUMBER\n",
    "#include <iostream>\n",
    "#include <vector>\n",
    "using namespace std;\n",
    "\n",
    "int main() {\n",
    "   int number;\n",
    "    for (int x = 102; x < 499; x++) {\n",
    "        vector<int> trace(10, 0);\n",
    "        for (int times = 1; times < 4; times++) {\n",
    "             number = times * x; \n",
    "            while (number != 0) {\n",
    "                int last_digit = number % 10;\n",
    "                if (trace[last_digit] != 0) \n",
    "                   break;\n",
    "                trace[last_digit] = 1;\n",
    "                number = number / 10;\n",
    "            }\n",
    "            if (number != 0) break;\n",
    "        }\n",
    "        if (number == 0) \n",
    "         cout << x << \" \" << 2 * x << \" \" << 3 * x << endl;\n",
    "    }\n",
    "    cout << \"End of program...\" << endl;\n",
    "    return 0;\n",
    "}"
   ]
  },
  {
   "cell_type": "code",
   "execution_count": null,
   "id": "dd53f992-8b72-49d4-b408-e84817407f2e",
   "metadata": {},
   "outputs": [],
   "source": [
    "// Java Code\n",
    "public class UniqueMultiples {\n",
    "    public static void main(String[] args) {\n",
    "        for (int x = 102; x < 499; x++) {\n",
    "            int[] trace = new int[10];\n",
    "            boolean isUnique = true;\n",
    "            for (int times = 1; times < 4; times++) {\n",
    "                int number = times * x;\n",
    "                while (number != 0) {\n",
    "                    int lastDigit = number % 10;\n",
    "                    if (trace[lastDigit] != 0) {\n",
    "                        isUnique = false;\n",
    "                        break;\n",
    "                    }\n",
    "                    trace[lastDigit] = 1;\n",
    "                    number = number / 10;\n",
    "                }\n",
    "                if (!isUnique) break;\n",
    "            }\n",
    "            if (isUnique) System.out.println(x + \" \" + 2 * x + \" \" + 3 * x);\n",
    "        }\n",
    "        System.out.println(\"End of program...\");\n",
    "    }\n",
    "}"
   ]
  },
  {
   "cell_type": "code",
   "execution_count": null,
   "id": "c5308854-0b45-4c62-8357-0bf01f487df9",
   "metadata": {},
   "outputs": [],
   "source": [
    "Find out those numbers which when multipled by 3 then in the resultant product the\n",
    "first digit will come at the last and all other digits will maintain the same\n",
    "sequence as they were there in the original number itself. As example:\n",
    "         w x y .... z\n",
    "                  * 3\n",
    "         ------------ \n",
    "         x y .... z w\n"
   ]
  },
  {
   "cell_type": "code",
   "execution_count": 1,
   "id": "5189ddd9-59a7-470e-926d-9d21ec737fc0",
   "metadata": {},
   "outputs": [
    {
     "name": "stdout",
     "output_type": "stream",
     "text": [
      "142857\n",
      "285714\n",
      "End of the program...\n"
     ]
    }
   ],
   "source": [
    "lookup = [0, 7, 4, 1, 8, 5, 2, 9, 6, 3]\n",
    "for start_no in range(1, 4):\n",
    "    current_digit = lookup[start_no]\n",
    "    carry = (current_digit * 3) // 10; answer = str(current_digit)\n",
    "    while current_digit != start_no:\n",
    "        current_digit = lookup[current_digit - carry]\n",
    "        if (str(current_digit) in answer): break\n",
    "        carry = (current_digit * 3) // 10\n",
    "        answer = str(current_digit) + answer\n",
    "    if (current_digit == start_no): print (answer)\n",
    "print (\"End of the program...\")"
   ]
  },
  {
   "cell_type": "code",
   "execution_count": null,
   "id": "acf339d2-5ff4-4d76-97f7-adc1a6aee77f",
   "metadata": {},
   "outputs": [],
   "source": [
    "// Java\n",
    "public class UniqueMultiples {\n",
    "    public static void main(String[] args) {\n",
    "        for (int x = 102; x < 499; x++) {\n",
    "            int[] trace = new int[10];\n",
    "            boolean isUnique = true;\n",
    "            for (int times = 1; times < 4; times++) {\n",
    "                int number = times * x;\n",
    "                while (number != 0) {\n",
    "                    int lastDigit = number % 10;\n",
    "                    if (trace[lastDigit] != 0) {\n",
    "                        isUnique = false;\n",
    "                        break;\n",
    "                    }\n",
    "                    trace[lastDigit] = 1;\n",
    "                    number = number / 10;\n",
    "                }\n",
    "                if (!isUnique) break;\n",
    "            }\n",
    "            if (isUnique) System.out.println(x + \" \" + 2 * x + \" \" + 3 * x);\n",
    "        }\n",
    "        System.out.println(\"End of program...\");\n",
    "    }\n",
    "}"
   ]
  },
  {
   "cell_type": "code",
   "execution_count": null,
   "id": "287d1881-8b2c-41a7-b284-587f12c9227c",
   "metadata": {},
   "outputs": [],
   "source": [
    "// C++\n",
    "#include <iostream>\n",
    "#include <vector>\n",
    "#include <string>\n",
    "\n",
    "int main() {\n",
    "    std::vector<int> lookup = {0, 7, 4, 1, 8, 5, 2, 9, 6, 3};\n",
    "    for (int start_no = 1; start_no < 4; ++start_no) {\n",
    "        int current_digit = lookup[start_no];\n",
    "        int carry = (current_digit * 3) / 10;\n",
    "        std::string answer = std::to_string(current_digit);\n",
    "        while (current_digit != start_no) {\n",
    "            current_digit = lookup[current_digit - carry];\n",
    "            if (answer.find(std::to_string(current_digit)) != std::string::npos) break;\n",
    "            carry = (current_digit * 3) / 10;\n",
    "            answer = std::to_string(current_digit) + answer;\n",
    "        }\n",
    "        if (current_digit == start_no) std::cout << answer << std::endl;\n",
    "    }\n",
    "    std::cout << \"End of the program...\" << std::endl;\n",
    "    return 0;\n",
    "}\n"
   ]
  },
  {
   "cell_type": "markdown",
   "id": "1f855cf7-88eb-47c4-9ce5-4947eddd09a3",
   "metadata": {},
   "source": [
    "## **Array Fillup**"
   ]
  },
  {
   "cell_type": "code",
   "execution_count": null,
   "id": "4d6359ad-4018-4926-bfa9-92f7032fae5d",
   "metadata": {},
   "outputs": [],
   "source": [
    "Spiral fill up\n",
    "==============\n",
    "Fill up one matrix with dimension nxn (where n is a user given integer number) with numbers\n",
    "ranging from 1 to n^2 in a clockwise spiral fashion starting from left top corner of the matrix.\n",
    "As example -                  r, c => current row and column numbers respectively\n",
    "r = 0, c = 0, rr = 0, cc = 1  rr, cc => incr./decr. factors along the row and column respectively\n",
    "n = 5                         r = r + rr, c = c + cc  1. Out of range\n",
    "     0   1   2   3   4        rr  cc     tt = cc           a. if (c == n)\n",
    "------------------------    ----------   cc = -rr          b. if (r == n)\n",
    "0 |  1   2   3   4   5         0   1     rr = tt           c. if (c == -1)\n",
    "1 | 16  17  18  19   6         1   0\n",
    "2 | 15  24  25  20   7         0  -1     tt = rr        2. Pre-occupied\n",
    "3 | 14  23  22  21   8        -1   0     rr = cc              if (matrix[r][c] != 0)\n",
    "4 | 13  12  11  10   9      ----------   cc = -tt\n",
    "------------------------       0   1     rr, cc = cc, -rr"
   ]
  },
  {
   "cell_type": "code",
   "execution_count": 6,
   "id": "eaea6e40-386f-4adc-8c5a-88f294de293c",
   "metadata": {},
   "outputs": [
    {
     "name": "stdin",
     "output_type": "stream",
     "text": [
      "Please enter the dimension of the matrix: 11\n"
     ]
    },
    {
     "name": "stdout",
     "output_type": "stream",
     "text": [
      "Displaying the Matrix...\n",
      "    1    2    3    4    5    6    7    8    9   10   11\n",
      "   40   41   42   43   44   45   46   47   48   49   12\n",
      "   39   72   73   74   75   76   77   78   79   50   13\n",
      "   38   71   96   97   98   99  100  101   80   51   14\n",
      "   37   70   95  112  113  114  115  102   81   52   15\n",
      "   36   69   94  111  120  121  116  103   82   53   16\n",
      "   35   68   93  110  119  118  117  104   83   54   17\n",
      "   34   67   92  109  108  107  106  105   84   55   18\n",
      "   33   66   91   90   89   88   87   86   85   56   19\n",
      "   32   65   64   63   62   61   60   59   58   57   20\n",
      "   31   30   29   28   27   26   25   24   23   22   21\n",
      "End of the program...\n"
     ]
    }
   ],
   "source": [
    "n = int(input(\"Please enter the dimension of the matrix:\"))\n",
    "matrix = [[0 for row in range(n)] for col in range(n)]\n",
    "r = c = rr = 0; cc = 1\n",
    "for number in range(1, n**2 + 1):\n",
    "    matrix[r][c] = number\n",
    "    tr = r + rr; tc = c + cc\n",
    "    if (tc == n or tr == n or tc == -1 or matrix[tr][tc] != 0):\n",
    "        rr, cc = cc, -rr\n",
    "    r = r + rr; c = c + cc\n",
    "\n",
    "print (\"Displaying the Matrix...\")\n",
    "for row in range(n):\n",
    "    for col in range(n):\n",
    "        print (\"%5d\"%matrix[row][col], end = \"\")\n",
    "    print ()\n",
    "print (\"End of the program...\")"
   ]
  },
  {
   "cell_type": "code",
   "execution_count": null,
   "id": "fa2b2a0b-21e2-46dc-ad34-8ed0c17e8151",
   "metadata": {},
   "outputs": [],
   "source": [
    "Spiral fill up (Anti-clockwise)\n",
    "==============\n",
    "Fill up one matrix with dimension nxn (where n is a user given integer number) with numbers\n",
    "ranging from 1 to n^2 in a clockwise spiral fashion starting from left top corner of the matrix.\n",
    "As example -                  r, c => current row and column numbers respectively\n",
    "r = 0, c = 0, rr = 1, cc = 0  rr, cc => incr./decr. factors along the row and column respectively\n",
    "n = 5                         r = r + rr, c = c + cc  1. Out of range\n",
    "     0   1   2   3   4        rr  cc     tt = cc           a. if (r == n)\n",
    "------------------------    ----------   cc = rr           b. if (c == n)\n",
    "0 |  1  16  15  14  13         1   0     rr = -tt          c. if (r == -1)\n",
    "1 |  2  17  24  23  12         0   1\n",
    "2 |  3  18  25  22  11        -1   0     tt = rr        2. Pre-occupied\n",
    "3 |  4  19  20  21  10         0  -1     rr = -cc              if (matrix[r][c] != 0)\n",
    "4 |  5   6   7   8   9      ----------   cc = tt\n",
    "------------------------       1   0     rr, cc = -cc, rr"
   ]
  },
  {
   "cell_type": "code",
   "execution_count": 8,
   "id": "3c0ae3f0-f940-435d-841a-8e9bebd64feb",
   "metadata": {},
   "outputs": [
    {
     "name": "stdin",
     "output_type": "stream",
     "text": [
      "Please enter the dimension of the matrix: 6\n"
     ]
    },
    {
     "name": "stdout",
     "output_type": "stream",
     "text": [
      "Displaying the Matrix...\n",
      "    1   20   19   18   17   16\n",
      "    2   21   32   31   30   15\n",
      "    3   22   33   36   29   14\n",
      "    4   23   34   35   28   13\n",
      "    5   24   25   26   27   12\n",
      "    6    7    8    9   10   11\n",
      "End of the program...\n"
     ]
    }
   ],
   "source": [
    "n = int(input(\"Please enter the dimension of the matrix:\"))\n",
    "matrix = [[0 for row in range(n)] for col in range(n)]\n",
    "r = c = cc = 0; rr = 1\n",
    "for number in range(1, n**2 + 1):\n",
    "    matrix[r][c] = number\n",
    "    tr = r + rr; tc = c + cc\n",
    "    if (tr == n or tc == n or tr == -1 or matrix[tr][tc] != 0):\n",
    "        rr, cc = -cc, rr\n",
    "    r = r + rr; c = c + cc\n",
    "\n",
    "print (\"Displaying the Matrix...\")\n",
    "for row in range(n):\n",
    "    for col in range(n):\n",
    "        print (\"%5d\"%matrix[row][col], end = \"\")\n",
    "    print ()\n",
    "print (\"End of the program...\")"
   ]
  },
  {
   "cell_type": "code",
   "execution_count": null,
   "id": "90b74a89-f4a4-4fbb-a129-e0ece04e80e7",
   "metadata": {},
   "outputs": [],
   "source": [
    "// Anti-clockwise C++ code\n",
    "\n",
    "#include <iostream>\n",
    "#include <vector>\n",
    "#include <iomanip> // for setw\n",
    "using namespace std;\n",
    "\n",
    "void fillAntiClockwiseSpiralMatrix(vector<vector<int>>& matrix, int n) {\n",
    "    int r = 0, c = 0, rr = 0, cc = 1;\n",
    "    for (int number = 1; number <= n * n; ++number) {\n",
    "        matrix[c][r] = number;\n",
    "        int tc = r + rr, tr = c + cc;\n",
    "        if (tc == n || tr == n || tc == -1 || matrix[tr][tc] != 0) {\n",
    "            swap(rr, cc);\n",
    "            cc = -cc;\n",
    "        }\n",
    "        r += rr;\n",
    "        c += cc;\n",
    "    }\n",
    "}\n",
    "\n",
    "void printMatrix(const vector<vector<int>>& matrix) {\n",
    "    for (const auto& row : matrix) {\n",
    "        for (int num : row) {\n",
    "            cout << setw(5) << num;\n",
    "        }\n",
    "        cout << endl;\n",
    "    }\n",
    "}\n",
    "\n",
    "int main() {\n",
    "    int n;\n",
    "    cout << \"Please enter the dimension of the matrix: \";\n",
    "    cin >> n;\n",
    "\n",
    "    vector<vector<int>> matrix(n, vector<int>(n, 0));\n",
    "\n",
    "    fillAntiClockwiseSpiralMatrix(matrix, n);\n",
    "\n",
    "    cout << \"Displaying the Matrix...\" << endl;\n",
    "    printMatrix(matrix);\n",
    "    cout << \"End of the program...\" << endl;\n",
    "\n",
    "    return 0;\n",
    "}"
   ]
  },
  {
   "cell_type": "markdown",
   "id": "a93ad433-60c8-4c4f-859d-2792a56bc9a7",
   "metadata": {},
   "source": [
    "## **Magic Square**"
   ]
  },
  {
   "cell_type": "code",
   "execution_count": null,
   "id": "78b52a56-31ba-4572-855a-65d058ad46ca",
   "metadata": {},
   "outputs": [],
   "source": [
    "Fill up a Matrix with dimension nxn (where n is one user given odd integer)\n",
    "with numbers 1 to n*n in such a way that all row-wise, column-wise and\n",
    "diagonal-wise sums are equal to each other. And Matrix thus obtained is \n",
    "called a Magic Square and sum thus obtained is called Magic Sum. As example:\n",
    "n = 5 (Odd integer)           *  *  *     r = 0, c = n // 2  r -= 1, c += 1       n   magic sum\n",
    "     0   1   2   3   4       ** ** ** *                                         -----------------\n",
    "------------------------    * ** ** **                                            3    15\n",
    "0 | 17  24   1   8  15     *  *  *  *                                             5    65\n",
    "1 | 23   5   7  14  16     1. Out of range logic:                                 7    175\n",
    "2 |  4   6  13  20  22     2/3   if (r == -1) then r = (n - 1)   {row-folding}    n    n * (1 + n*n) // 2\n",
    "3 | 10  12  19  21   3     3/2   if (c == n) then c = 0          {col-folding}  -----------------\n",
    "4 | 11  18  25   2   9     1     if (r == -1 and c == n) then r += 2 and c -= 1   {corner logic}\n",
    "------------------------   2. Pre-occupied logic:\n",
    "                           4     if (matrix[r][c] != 0) then r += 2 and c -= 1   {pre-occupied logic}"
   ]
  },
  {
   "cell_type": "code",
   "execution_count": 16,
   "id": "c56ed7ae-fb33-45dd-a72b-151c2e397736",
   "metadata": {},
   "outputs": [
    {
     "name": "stdin",
     "output_type": "stream",
     "text": [
      "Please enter the dimension number: 7\n"
     ]
    },
    {
     "name": "stdout",
     "output_type": "stream",
     "text": [
      "Displaying the Matrix...\n",
      "   30   39   48    1   10   19   28\n",
      "   38   47    7    9   18   27   29\n",
      "   46    6    8   17   26   35   37\n",
      "    5   14   16   25   34   36   45\n",
      "   13   15   24   33   42   44    4\n",
      "   21   23   32   41   43    3   12\n",
      "   22   31   40   49    2   11   20\n",
      "So the calculated magic sum is 175...\n",
      "End of the program...\n"
     ]
    }
   ],
   "source": [
    "while (True):\n",
    "    n = int(input(\"Please enter the dimension number:\"))\n",
    "    if (n % 2 == 1): break\n",
    "print (\"So the pre-calculated m\")\n",
    "r = 0; c = n // 2\n",
    "matrix = [[0 for col in range(n)] for row in range(n)]\n",
    "magic_sum = 0\n",
    "for i in range(1, n*n + 1):\n",
    "    matrix[r][c] = i\n",
    "    if (r == c): magic_sum += matrix[r][c]\n",
    "    r -= 1; c += 1\n",
    "    if (r == -1 and c == n): r += 2; c -= 1   # corner logic\n",
    "    elif (r == -1): r = (n - 1)               # row-folding\n",
    "    elif (c == n): c = 0                      # col-folding\n",
    "    elif (matrix[r][c] != 0): r += 2; c -= 1  # pre-occupied logic\n",
    "print (\"Displaying the Matrix...\")\n",
    "for row in range(n):\n",
    "    for col in range(n):\n",
    "        print (\"%5d\"%matrix[row][col], end = \"\")\n",
    "    print ()\n",
    "print (f\"So the calculated magic sum is {magic_sum}...\")\n",
    "print (\"End of the program...\")"
   ]
  },
  {
   "cell_type": "code",
   "execution_count": null,
   "id": "75149480-6196-4ce5-bf91-1ef4a971abff",
   "metadata": {},
   "outputs": [],
   "source": []
  },
  {
   "cell_type": "code",
   "execution_count": null,
   "id": "4f8737ff-f770-45d9-9e45-39d3cfa424a2",
   "metadata": {},
   "outputs": [],
   "source": []
  },
  {
   "cell_type": "code",
   "execution_count": null,
   "id": "b687f816-c24c-4c94-9f15-55948dc6fb21",
   "metadata": {},
   "outputs": [],
   "source": []
  },
  {
   "cell_type": "code",
   "execution_count": null,
   "id": "e5f491ef-bf34-45aa-8b04-30f47c4dbfa7",
   "metadata": {},
   "outputs": [],
   "source": []
  },
  {
   "cell_type": "code",
   "execution_count": null,
   "id": "f15aacc2-338c-4ef0-b863-1eed36533253",
   "metadata": {},
   "outputs": [],
   "source": []
  }
 ],
 "metadata": {
  "kernelspec": {
   "display_name": "Python 3 (ipykernel)",
   "language": "python",
   "name": "python3"
  },
  "language_info": {
   "codemirror_mode": {
    "name": "ipython",
    "version": 3
   },
   "file_extension": ".py",
   "mimetype": "text/x-python",
   "name": "python",
   "nbconvert_exporter": "python",
   "pygments_lexer": "ipython3",
   "version": "3.11.7"
  }
 },
 "nbformat": 4,
 "nbformat_minor": 5
}

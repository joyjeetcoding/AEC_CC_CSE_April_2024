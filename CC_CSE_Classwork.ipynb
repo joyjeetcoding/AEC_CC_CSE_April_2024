{
 "cells": [
  {
   "cell_type": "code",
   "execution_count": 1,
   "id": "5afc32b9-0e6d-4fbb-8128-8bbad49c4ae9",
   "metadata": {},
   "outputs": [
    {
     "name": "stdout",
     "output_type": "stream",
     "text": [
      "500000 1000000\n"
     ]
    }
   ],
   "source": [
    "n = 1000000\n",
    "i = 1\n",
    "count = 0\n",
    "while (i <= n):\n",
    "    count += 1\n",
    "    i += 2\n",
    "print (count, n)  # O(n)"
   ]
  },
  {
   "cell_type": "code",
   "execution_count": 2,
   "id": "7ac9c86b-a6a8-4449-a1a2-f0ad6eedfebe",
   "metadata": {},
   "outputs": [
    {
     "name": "stdout",
     "output_type": "stream",
     "text": [
      "20 19.931568569324174\n"
     ]
    }
   ],
   "source": [
    "import math\n",
    "n = 1000000\n",
    "i = 1\n",
    "count = 0\n",
    "while (i <= n):\n",
    "    count += 1\n",
    "    i *= 2\n",
    "print (count, math.log2(n))  # O(log2(n))"
   ]
  },
  {
   "cell_type": "code",
   "execution_count": 7,
   "id": "c9607897-dbdd-4312-8522-e4893a8e42fa",
   "metadata": {},
   "outputs": [
    {
     "name": "stdout",
     "output_type": "stream",
     "text": [
      "6 4.316983346365776\n"
     ]
    }
   ],
   "source": [
    "import math\n",
    "n = 1000000\n",
    "i = 2\n",
    "count = 1\n",
    "while (i <= n):\n",
    "    count += 1\n",
    "    i **= 2\n",
    "print (count, math.log2(math.log2(n)))  # O(loglog2(n))"
   ]
  },
  {
   "cell_type": "code",
   "execution_count": 10,
   "id": "11fd1b24-251c-487b-b47d-b90442c958b0",
   "metadata": {},
   "outputs": [
    {
     "name": "stdout",
     "output_type": "stream",
     "text": [
      "Hello Hello Hello Hello Hello \n",
      "Banana\n"
     ]
    }
   ],
   "source": [
    "print (\"Hello \" * 5)\n",
    "print (\"Ba\" + \"na\" * 2)"
   ]
  },
  {
   "cell_type": "code",
   "execution_count": null,
   "id": "580e838f-3b68-4276-b731-6ea1c7e35cb1",
   "metadata": {},
   "outputs": [],
   "source": [
    "Pattren - 1\n",
    "n = 6 (User input)\n",
    "                 i   .   *\n",
    "              ---------------\n",
    ".....*           1   5   1        (n, i)\n",
    "....***          2   4   3   . => (n - i)\n",
    "...*****         3   3   5\n",
    "..*******        4   2   7   * => (2 * i - 1)\n",
    ".*********       5   1   9\n",
    "***********      6   0  11\n",
    "              ---------------"
   ]
  },
  {
   "cell_type": "code",
   "execution_count": 13,
   "id": "1df6cbf6-c5bd-41a6-905e-211722a6515b",
   "metadata": {},
   "outputs": [
    {
     "name": "stdin",
     "output_type": "stream",
     "text": [
      "Enter the number of layers: 6\n"
     ]
    },
    {
     "name": "stdout",
     "output_type": "stream",
     "text": [
      ".....*\n",
      "....***\n",
      "...*****\n",
      "..*******\n",
      ".*********\n",
      "***********\n",
      "End of the pattern...\n"
     ]
    }
   ],
   "source": [
    "n = int(input(\"Enter the number of layers:\"))\n",
    "for i in range(1, n + 1):\n",
    "    print (\".\" * (n - i) + \"*\" * (2 * i - 1))\n",
    "print (\"End of the pattern...\")"
   ]
  },
  {
   "cell_type": "code",
   "execution_count": null,
   "id": "ecfbff2c-7f0e-4e01-9a0a-32dbdab58e0f",
   "metadata": {},
   "outputs": [],
   "source": [
    "Pattren - 2\n",
    "n = 11 (User input, should be an odd integer)   m  = (n + 1) // 2 = 6\n",
    "                 i   .   *\n",
    "              ---------------\n",
    "***********      1   0  11        (n, m, i)\n",
    ".*********       2   1   9   . => (i - 1)\n",
    "..*******        3   2   7\n",
    "...*****         4   3   5   * => (2 * (m - i) + 1)\n",
    "....***          5   4   3\n",
    ".....*        ___6___5___1___\n",
    "....***          7   4   3\n",
    "...*****         8   3   5   . => (n - i)\n",
    "..*******        9   2   7\n",
    ".*********      10   1   9   * => (2 * (i - m) + 1)\n",
    "***********     11   0  11\n",
    "              ---------------"
   ]
  },
  {
   "cell_type": "code",
   "execution_count": 17,
   "id": "e9576b37-f651-4b4f-8ac1-5b78301822ba",
   "metadata": {},
   "outputs": [
    {
     "name": "stdin",
     "output_type": "stream",
     "text": [
      "Enter the ODD number of layers: 12\n",
      "Enter the ODD number of layers: 10\n",
      "Enter the ODD number of layers: 8\n",
      "Enter the ODD number of layers: 22\n",
      "Enter the ODD number of layers: 24\n",
      "Enter the ODD number of layers: 11\n"
     ]
    },
    {
     "name": "stdout",
     "output_type": "stream",
     "text": [
      "***********\n",
      ".*********\n",
      "..*******\n",
      "...*****\n",
      "....***\n",
      ".....*\n",
      "....***\n",
      "...*****\n",
      "..*******\n",
      ".*********\n",
      "***********\n",
      "End of the pattern...\n"
     ]
    }
   ],
   "source": [
    "while (True):\n",
    "    n = int(input(\"Enter the ODD number of layers:\"))\n",
    "    if (n % 2 == 1): break\n",
    "m = (n + 1) // 2\n",
    "for i in range(1, n + 1):\n",
    "    if (i > m): b = (n - i); s = (2 * (i - m) + 1)\n",
    "    else: b = (i - 1); s = (2 * (m - i) + 1)\n",
    "    print (\".\" * b + \"*\" * s)\n",
    "print (\"End of the pattern...\")"
   ]
  },
  {
   "cell_type": "markdown",
   "id": "65ea3cea-f138-4fa1-9a85-2fe41915a682",
   "metadata": {},
   "source": [
    "### **Home Work**"
   ]
  },
  {
   "cell_type": "code",
   "execution_count": null,
   "id": "badbfa84-f52d-4c88-865b-b1ff8aaac758",
   "metadata": {
    "jupyter": {
     "source_hidden": true
    }
   },
   "outputs": [],
   "source": [
    "Pattern - 3\n",
    "n = 6 (User input)           dim = (2 * n - 1) = 11   dim x dim = 11 x 11   mid = n\n",
    "                             i   start  end\n",
    "                          -------------------   \n",
    "6 6 6 6 6 6 6 6 6 6 6        1     1     11\n",
    "6 5 5 5 5 5 5 5 5 5 6        2     2     10   start => i\n",
    "6 5 4 4 4 4 4 4 4 5 6        3     3      9\n",
    "6 5 4 3 3 3 3 3 4 5 6        4     4      8   end => dim - i + 1\n",
    "6 5 4 3 2 2 2 3 4 5 6        5     5      7\n",
    "6 5 4 3 2 1 2 3 4 5 6     ___6_____6______6___\n",
    "6 5 4 3 2 2 2 3 4 5 6        7     5      7\n",
    "6 5 4 3 3 3 3 3 4 5 6        8     4      8   start => dim - i + 1\n",
    "6 5 4 4 4 4 4 4 4 5 6        9     3      9\n",
    "6 5 5 5 5 5 5 5 5 5 6       10     2     10   end => i\n",
    "6 6 6 6 6 6 6 6 6 6 6       11     1     11\n",
    "                          -------------------"
   ]
  },
  {
   "cell_type": "code",
   "execution_count": 21,
   "id": "6c0ba42b-de12-4f39-8f56-35e06f081c84",
   "metadata": {
    "collapsed": true,
    "jupyter": {
     "outputs_hidden": true,
     "source_hidden": true
    }
   },
   "outputs": [
    {
     "name": "stdin",
     "output_type": "stream",
     "text": [
      "Please enter the number of layers: 7\n"
     ]
    },
    {
     "name": "stdout",
     "output_type": "stream",
     "text": [
      "7 7 7 7 7 7 7 7 7 7 7 7 7 \n",
      "7 6 6 6 6 6 6 6 6 6 6 6 7 \n",
      "7 6 5 5 5 5 5 5 5 5 5 6 7 \n",
      "7 6 5 4 4 4 4 4 4 4 5 6 7 \n",
      "7 6 5 4 3 3 3 3 3 4 5 6 7 \n",
      "7 6 5 4 3 2 2 2 3 4 5 6 7 \n",
      "7 6 5 4 3 2 1 2 3 4 5 6 7 \n",
      "7 6 5 4 3 2 2 2 3 4 5 6 7 \n",
      "7 6 5 4 3 3 3 3 3 4 5 6 7 \n",
      "7 6 5 4 4 4 4 4 4 4 5 6 7 \n",
      "7 6 5 5 5 5 5 5 5 5 5 6 7 \n",
      "7 6 6 6 6 6 6 6 6 6 6 6 7 \n",
      "7 7 7 7 7 7 7 7 7 7 7 7 7 \n",
      "End of the pattern...\n"
     ]
    }
   ],
   "source": [
    "n = int(input(\"Please enter the number of layers:\"))\n",
    "dim = (2 * n - 1); mid = n\n",
    "for i in range(1, dim + 1):\n",
    "    if (i > mid): start, end = (dim - i + 1), i\n",
    "    else: start, end = i, (dim - i + 1)\n",
    "    number = n\n",
    "    for j in range(1, dim + 1):\n",
    "        print (number, end = \" \")\n",
    "        if (j < start): number -= 1\n",
    "        if (j >= end): number += 1\n",
    "    print ()\n",
    "print (\"End of the pattern...\")"
   ]
  },
  {
   "cell_type": "code",
   "execution_count": null,
   "id": "b255f132-33ed-42ed-a27d-866c5167f394",
   "metadata": {},
   "outputs": [],
   "source": [
    "Pattern - 3\n",
    "n = 6 (User input)       dim = 2 * n - 1 = 11  (dim x dim)   mid = (dim + 1) // 2 = 6\n",
    "                           i   start   finish\n",
    "                         -----------------------\n",
    "6 6 6 6 6 6 6 6 6 6 6      1     1       11      \n",
    "6 5 5 5 5 5 5 5 5 5 6      2     2       10   start => i\n",
    "6 5 4 4 4 4 4 4 4 5 6      3     3        9\n",
    "6 5 4 3 3 3 3 3 4 5 6      4     4        8   finish => (dim - i + 1)\n",
    "6 5 4 3 2 2 2 3 4 5 6      5     5        7\n",
    "6 5 4 3 2 1 2 3 4 5 6    __6_____6________6__\n",
    "6 5 4 3 2 2 2 3 4 5 6      7     5        7\n",
    "6 5 4 3 3 3 3 3 4 5 6      8     4        8   start => (dim - i + 1)\n",
    "6 5 4 4 4 4 4 4 4 5 6      9     3        9\n",
    "6 5 5 5 5 5 5 5 5 5 6     10     2       10   finish => i\n",
    "6 6 6 6 6 6 6 6 6 6 6     11     1       11\n",
    "                         -----------------------"
   ]
  },
  {
   "cell_type": "code",
   "execution_count": 6,
   "id": "6210493a-7fbe-4cfc-a1d0-80f0237e4f5d",
   "metadata": {},
   "outputs": [
    {
     "name": "stdin",
     "output_type": "stream",
     "text": [
      "Please enter one integer number: 7\n"
     ]
    },
    {
     "name": "stdout",
     "output_type": "stream",
     "text": [
      "   7   7   7   7   7   7   7   7   7   7   7   7   7\n",
      "   7   6   6   6   6   6   6   6   6   6   6   6   7\n",
      "   7   6   5   5   5   5   5   5   5   5   5   6   7\n",
      "   7   6   5   4   4   4   4   4   4   4   5   6   7\n",
      "   7   6   5   4   3   3   3   3   3   4   5   6   7\n",
      "   7   6   5   4   3   2   2   2   3   4   5   6   7\n",
      "   7   6   5   4   3   2   1   2   3   4   5   6   7\n",
      "   7   6   5   4   3   2   2   2   3   4   5   6   7\n",
      "   7   6   5   4   3   3   3   3   3   4   5   6   7\n",
      "   7   6   5   4   4   4   4   4   4   4   5   6   7\n",
      "   7   6   5   5   5   5   5   5   5   5   5   6   7\n",
      "   7   6   6   6   6   6   6   6   6   6   6   6   7\n",
      "   7   7   7   7   7   7   7   7   7   7   7   7   7\n",
      "End of the pattern...\n"
     ]
    }
   ],
   "source": [
    "n = int(input(\"Please enter one integer number:\"))\n",
    "dim = (2 * n - 1); mid = (dim + 1) // 2\n",
    "for row in range(1, dim + 1):\n",
    "    start_num = n\n",
    "    if (row > mid): start, finish = (dim - row + 1), row\n",
    "    else: start, finish = row, (dim - row + 1)\n",
    "    for col in range(1, dim + 1):\n",
    "        print (\"%4d\"%start_num, end = \"\")\n",
    "        if (col < start): start_num -= 1\n",
    "        if (col >= finish): start_num += 1\n",
    "    print()\n",
    "print (\"End of the pattern...\")"
   ]
  },
  {
   "cell_type": "code",
   "execution_count": null,
   "id": "d6b6012c-8ec8-4257-a21e-ffab388d1fe6",
   "metadata": {},
   "outputs": [],
   "source": [
    "// Name- Riya Kumari, Language- C++, Pattern\n",
    "#include <iostream>\n",
    "#include<bits/stdc++.h>\n",
    "using namespace std;\n",
    "int main() {\n",
    "    // Write C++ code here\n",
    "   int n=6, dim=2*n-1, mid=(dim+1)/2, start=0,finish=0;\n",
    "   for(int i=1;i<dim+1;i++){\n",
    "       int start_num=n;\n",
    "       if(i>mid){\n",
    "           start=dim-i+1;\n",
    "           finish=i;\n",
    "       }\n",
    "       else{\n",
    "           start=i;\n",
    "           finish=dim-i+1;\n",
    "       }\n",
    "       for(int j=1;j<dim+1;j++){\n",
    "           std::cout<<start_num<<\" \";\n",
    "           if(j<start){\n",
    "               start_num-=1;\n",
    "           }\n",
    "           if(j>=finish){\n",
    "               start_num+=1;\n",
    "           }\n",
    "       }\n",
    "       cout<<endl;\n",
    "   }\n",
    "\n",
    "    return 0;\n",
    "}"
   ]
  },
  {
   "cell_type": "code",
   "execution_count": null,
   "id": "47efe53c-6670-4753-ac6c-e86b2a26f656",
   "metadata": {},
   "outputs": [],
   "source": [
    "// JAVA CODE\n",
    "public class Main {\n",
    "    public static void main(String[] args) {\n",
    "        int size = 12;\n",
    "        for (int i = 1; i <= size; i++) {\n",
    "            for (int j = 1; j <= size; j++) {\n",
    "                System.out.print(Math.max(Math.abs(size / 2 - i), Math.abs(size / 2 - j)) + \" \");\n",
    "            }\n",
    "            System.out.println();\n",
    "        }\n",
    "    }\n",
    "}"
   ]
  },
  {
   "cell_type": "markdown",
   "id": "1ba24926-993f-4108-9bad-f00ba65ff484",
   "metadata": {},
   "source": [
    "## **Triode Number**"
   ]
  },
  {
   "cell_type": "code",
   "execution_count": null,
   "id": "f70cff32-c3ae-4125-9060-fb5f3058271b",
   "metadata": {},
   "outputs": [],
   "source": [
    "Find out all possible three digit Triode Numbers.\n",
    "Let x be a Triode Number, then x, 2*x and 3*x will have all distinct digits.\n",
    "As example:\n",
    "x = 219, then 2*x = 438 and 3*x = 657\n",
    "x = 192, then 2*x = 384 and 3*x = 576\n",
    "Tracing:\n",
    "  x => 3\n",
    "2*x => 3    4\n",
    "3*x => 3,4  4\n",
    "lower limit =>  102\n",
    "upper limit =>  498"
   ]
  },
  {
   "cell_type": "code",
   "execution_count": 8,
   "id": "98ace489-d9f0-46b5-83c5-8f6dff81ccd7",
   "metadata": {},
   "outputs": [
    {
     "name": "stdout",
     "output_type": "stream",
     "text": [
      "192 384 576\n",
      "219 438 657\n",
      "267 534 801\n",
      "273 546 819\n",
      "327 654 981\n",
      "End of the program...\n"
     ]
    }
   ],
   "source": [
    "for x in range(102, 499):\n",
    "    trace = [0 for i in range(10)]\n",
    "    for times in range(1, 4):\n",
    "        number = times * x\n",
    "        while (number != 0):\n",
    "            last_digit = number % 10\n",
    "            if (trace[last_digit] != 0): break\n",
    "            trace[last_digit] = 1\n",
    "            number = number // 10\n",
    "        if (number != 0): break\n",
    "    if (number == 0): print (x, 2*x, 3*x)\n",
    "print (\"End of the program...\")"
   ]
  },
  {
   "cell_type": "code",
   "execution_count": 7,
   "id": "3dffffaf-4c8e-40da-b528-9623abb5723b",
   "metadata": {},
   "outputs": [
    {
     "name": "stdout",
     "output_type": "stream",
     "text": [
      "[0, 0, 0, 0, 0, 0, 0, 0, 0, 0]\n"
     ]
    }
   ],
   "source": [
    "trace = [0 for i in range(10)]\n",
    "print (trace)"
   ]
  },
  {
   "cell_type": "code",
   "execution_count": null,
   "id": "e5d8b9fa-8421-46af-b584-49ac245a045e",
   "metadata": {},
   "outputs": [],
   "source": []
  },
  {
   "cell_type": "code",
   "execution_count": null,
   "id": "dd53f992-8b72-49d4-b408-e84817407f2e",
   "metadata": {},
   "outputs": [],
   "source": []
  },
  {
   "cell_type": "code",
   "execution_count": null,
   "id": "c5308854-0b45-4c62-8357-0bf01f487df9",
   "metadata": {},
   "outputs": [],
   "source": []
  },
  {
   "cell_type": "code",
   "execution_count": null,
   "id": "5189ddd9-59a7-470e-926d-9d21ec737fc0",
   "metadata": {},
   "outputs": [],
   "source": []
  },
  {
   "cell_type": "code",
   "execution_count": null,
   "id": "acf339d2-5ff4-4d76-97f7-adc1a6aee77f",
   "metadata": {},
   "outputs": [],
   "source": []
  },
  {
   "cell_type": "code",
   "execution_count": null,
   "id": "287d1881-8b2c-41a7-b284-587f12c9227c",
   "metadata": {},
   "outputs": [],
   "source": []
  },
  {
   "cell_type": "code",
   "execution_count": null,
   "id": "bfca1c63-9ac1-4996-86ab-8f65320c4f39",
   "metadata": {},
   "outputs": [],
   "source": []
  },
  {
   "cell_type": "code",
   "execution_count": null,
   "id": "87a57cc8-fd05-4a56-a64f-1d950fe3eac2",
   "metadata": {},
   "outputs": [],
   "source": []
  },
  {
   "cell_type": "code",
   "execution_count": null,
   "id": "78b52a56-31ba-4572-855a-65d058ad46ca",
   "metadata": {},
   "outputs": [],
   "source": []
  },
  {
   "cell_type": "code",
   "execution_count": null,
   "id": "e5f491ef-bf34-45aa-8b04-30f47c4dbfa7",
   "metadata": {},
   "outputs": [],
   "source": []
  },
  {
   "cell_type": "code",
   "execution_count": null,
   "id": "f15aacc2-338c-4ef0-b863-1eed36533253",
   "metadata": {},
   "outputs": [],
   "source": []
  }
 ],
 "metadata": {
  "kernelspec": {
   "display_name": "Python 3 (ipykernel)",
   "language": "python",
   "name": "python3"
  },
  "language_info": {
   "codemirror_mode": {
    "name": "ipython",
    "version": 3
   },
   "file_extension": ".py",
   "mimetype": "text/x-python",
   "name": "python",
   "nbconvert_exporter": "python",
   "pygments_lexer": "ipython3",
   "version": "3.11.7"
  }
 },
 "nbformat": 4,
 "nbformat_minor": 5
}
